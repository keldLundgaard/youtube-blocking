{
 "cells": [
  {
   "cell_type": "code",
   "execution_count": 1,
   "metadata": {},
   "outputs": [
    {
     "name": "stdout",
     "output_type": "stream",
     "text": [
      "%pylab is deprecated, use %matplotlib inline and import the required libraries.\n",
      "Populating the interactive namespace from numpy and matplotlib\n"
     ]
    }
   ],
   "source": [
    "import os, sys, time, pickle\n",
    "from pathlib import Path\n",
    "from collections import Counter\n",
    "\n",
    "PROJECT_DIR = Path(sys.path[0])/\"..\"\n",
    "DATA_DIR = PROJECT_DIR/\"data\"\n",
    "SRC_DIR = PROJECT_DIR/\"src\"\n",
    "sys.path.append(SRC_DIR)\n",
    "\n",
    "%pylab inline\n",
    "%config InlineBackend.figure_format='retina'\n",
    "\n",
    "%load_ext autoreload\n",
    "%autoreload 2"
   ]
  },
  {
   "cell_type": "code",
   "execution_count": null,
   "metadata": {},
   "outputs": [],
   "source": [
    "from googleapiclient.discovery import build\n",
    "from typing import List, Dict\n",
    "\n",
    "def get_playlist_items(api_key: str, playlist_id: str) -> List[Dict[str, str]]:\n",
    "    \"\"\"\n",
    "    Fetch all videos from a YouTube playlist.\n",
    "    \n",
    "    Args:\n",
    "        api_key: Your YouTube Data API key\n",
    "        playlist_id: The ID of the playlist (found in the URL after list=)\n",
    "        \n",
    "    Returns:\n",
    "        List of dictionaries containing video information\n",
    "    \"\"\"\n",
    "    youtube = build('youtube', 'v3', developerKey=api_key)\n",
    "    videos = []\n",
    "    next_page_token = None\n",
    "    \n",
    "    while True:\n",
    "        # Get playlist items\n",
    "        request = youtube.playlistItems().list(\n",
    "            part='contentDetails,snippet',\n",
    "            playlistId=playlist_id,\n",
    "            maxResults=50,\n",
    "            pageToken=next_page_token\n",
    "        )\n",
    "        response = request.execute()\n",
    "        \n",
    "        # Extract video information\n",
    "        for item in response['items']:\n",
    "            video = {\n",
    "                'title': item['snippet']['title'],\n",
    "                'video_id': item['contentDetails']['videoId'],\n",
    "                'url': f\"https://www.youtube.com/watch?v={item['contentDetails']['videoId']}\"\n",
    "            }\n",
    "            videos.append(video)\n",
    "        \n",
    "        # Check if there are more pages\n",
    "        next_page_token = response.get('nextPageToken')\n",
    "        if not next_page_token:\n",
    "            break\n",
    "    \n",
    "    return videos\n",
    "\n",
    "# Example usage\n",
    "if __name__ == \"__main__\":\n",
    "    API_KEY = 'YOUR_API_KEY_HERE'\n",
    "    PLAYLIST_ID = 'YOUR_PLAYLIST_ID_HERE'  # The part after 'list=' in the playlist URL\n",
    "    \n",
    "    try:\n",
    "        videos = get_playlist_items(API_KEY, PLAYLIST_ID)\n",
    "        for video in videos:\n",
    "            print(f\"Title: {video['title']}\")\n",
    "            print(f\"URL: {video['url']}\")\n",
    "            print(\"---\")\n",
    "    except Exception as e:\n",
    "        print(f\"An error occurred: {str(e)}\")"
   ]
  }
 ],
 "metadata": {
  "kernelspec": {
   "display_name": "Python 3 (ipykernel)",
   "language": "python",
   "name": "python3"
  },
  "language_info": {
   "codemirror_mode": {
    "name": "ipython",
    "version": 3
   },
   "file_extension": ".py",
   "mimetype": "text/x-python",
   "name": "python",
   "nbconvert_exporter": "python",
   "pygments_lexer": "ipython3",
   "version": "3.10.10"
  }
 },
 "nbformat": 4,
 "nbformat_minor": 4
}
